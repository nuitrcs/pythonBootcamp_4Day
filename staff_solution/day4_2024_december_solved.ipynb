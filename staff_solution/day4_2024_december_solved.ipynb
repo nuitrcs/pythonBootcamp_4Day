{
 "cells": [
  {
   "cell_type": "markdown",
   "id": "88825d90-ff09-45f7-9be4-93d23b74e9dc",
   "metadata": {},
   "source": [
    "## Part 1"
   ]
  },
  {
   "cell_type": "code",
   "execution_count": 4,
   "id": "d6b56def-95c2-4535-aeb8-db7f45f76ef8",
   "metadata": {},
   "outputs": [],
   "source": [
    "# Step 0: Only if you are in google colab:\n",
    "i_am_using_colab = 0                # <-- Change this to 1 if you are using Colab\n",
    "if i_am_using_colab:\n",
    "    !wget https://raw.githubusercontent.com/nuitrcs/pythonBootcamp_4Day/main/conversionMeasures.csv"
   ]
  },
  {
   "cell_type": "markdown",
   "id": "8b401f32-57a5-4c37-b4fa-0aa9b40f29cf",
   "metadata": {},
   "source": [
    "**Step 1: Load the data**"
   ]
  },
  {
   "cell_type": "code",
   "execution_count": 5,
   "id": "590d36c2-addb-4ffc-b2a8-db0454831df0",
   "metadata": {},
   "outputs": [
    {
     "data": {
      "text/plain": [
       "['kilometer,1000,meter',\n",
       " 'meter,100,centimeter',\n",
       " 'inch,2.54,centimeter',\n",
       " 'foot,30.48,centimeter',\n",
       " 'mile,1.609,kilometer']"
      ]
     },
     "execution_count": 5,
     "metadata": {},
     "output_type": "execute_result"
    }
   ],
   "source": [
    "# Step 1: Load the data\n",
    "\n",
    "data_file = \"conversionMeasures.csv\"\n",
    "\n",
    "with open(data_file, \"r\") as f:\n",
    "    conversions_raw = f.read().split(\"\\n\")\n",
    "conversions_raw[0:5]"
   ]
  },
  {
   "cell_type": "markdown",
   "id": "57dd2c79-cd04-4900-b7c3-f11c649a437f",
   "metadata": {},
   "source": [
    "**Step 2: Decide which data object**\n",
    "\n",
    "Here we have several options. Let's look at the information of the first line, and play around with it. We have:\n",
    "* Unit *from* which we want to convert (kilometer)\n",
    "* Unit *to* which we want to convert (meter)\n",
    "* Conversion factor (1000)\n",
    "\n",
    "If I have X kilometers, and Y is my converted answer, I need:\n",
    "`Y = X * conversion_factor`\n",
    "\n",
    "I need to keep track of each piece of information. Maybe a dictionary per line would be a good idea! We would have, for our test line, something like:\n",
    "`{\"unit from\": kilometer, \"unit to\": meter, \"conversion factor\": 1000}`\n",
    "\n",
    "And we need one of these dictionaries per line. So make a list of dictionaries?"
   ]
  },
  {
   "cell_type": "code",
   "execution_count": 7,
   "id": "acc7e508-92f9-4bc7-aba7-2f0ac8990805",
   "metadata": {},
   "outputs": [
    {
     "data": {
      "text/plain": [
       "[{'unit from': 'kilometer', 'conversion factor': '1000', 'unit to': 'meter'},\n",
       " {'unit from': 'meter', 'conversion factor': '100', 'unit to': 'centimeter'},\n",
       " {'unit from': 'inch', 'conversion factor': '2.54', 'unit to': 'centimeter'},\n",
       " {'unit from': 'foot', 'conversion factor': '30.48', 'unit to': 'centimeter'},\n",
       " {'unit from': 'mile', 'conversion factor': '1.609', 'unit to': 'kilometer'}]"
      ]
     },
     "execution_count": 7,
     "metadata": {},
     "output_type": "execute_result"
    }
   ],
   "source": [
    "conversions = []\n",
    "for row in conversions_raw:\n",
    "    row_dict = {}\n",
    "    c_list = row.split(\",\")\n",
    "    row_dict[\"unit from\"] = c_list[0]\n",
    "    row_dict[\"conversion factor\"] = c_list[1]\n",
    "    row_dict[\"unit to\"] = c_list[2]\n",
    "    conversions.append(row_dict)\n",
    "\n",
    "conversions[0:5]"
   ]
  },
  {
   "cell_type": "markdown",
   "id": "2bfb3b26-b87e-4471-a169-075614b9aa40",
   "metadata": {},
   "source": [
    "## Part 2:"
   ]
  },
  {
   "cell_type": "code",
   "execution_count": 8,
   "id": "80348e10-4ce1-4095-9fe0-8b8e9564c64a",
   "metadata": {},
   "outputs": [],
   "source": [
    "def converter(quantity, unit_from, unit_to):\n",
    "    # convertst quantity from unit_from to unit_to\n",
    "\n",
    "    # Step 1: Find the row where unit_from matches\n",
    "    for conv_dict in conversions:\n",
    "        if (conv_dict[\"unit from\"]==unit_from) and (conv_dict[\"unit to\"]==unit_to):\n",
    "            converted = quantity * conv_dict[\"conversion factor\"]\n",
    "            break\n",
    "    return converted"
   ]
  },
  {
   "cell_type": "code",
   "execution_count": 10,
   "id": "075ccb4a-d342-4359-b325-88cfaa4a2105",
   "metadata": {},
   "outputs": [
    {
     "data": {
      "text/plain": [
       "'10001000'"
      ]
     },
     "execution_count": 10,
     "metadata": {},
     "output_type": "execute_result"
    }
   ],
   "source": [
    "converter(2, \"kilometer\", \"meter\")"
   ]
  },
  {
   "cell_type": "markdown",
   "id": "39428d01-c42a-4fa8-b8f1-5ecadd519d5a",
   "metadata": {},
   "source": [
    "Aha! We needed to turn them into integers. Instead of going back and building the dictionary, let's just do it in our function:"
   ]
  },
  {
   "cell_type": "code",
   "execution_count": 11,
   "id": "7ccf641a-c491-4c86-866e-6a85eb08d5db",
   "metadata": {},
   "outputs": [],
   "source": [
    "def converter(quantity, unit_from, unit_to):\n",
    "    # convertst quantity from unit_from to unit_to\n",
    "\n",
    "    # Step 1: Find the row where unit_from matches\n",
    "    for conv_dict in conversions:\n",
    "        if (conv_dict[\"unit from\"]==unit_from) and (conv_dict[\"unit to\"]==unit_to):\n",
    "            converted = quantity * int(conv_dict[\"conversion factor\"])\n",
    "            break\n",
    "    return converted"
   ]
  },
  {
   "cell_type": "code",
   "execution_count": 12,
   "id": "fd88b0c6-34f0-4e09-bea8-c17c9ada4d04",
   "metadata": {},
   "outputs": [
    {
     "data": {
      "text/plain": [
       "2000"
      ]
     },
     "execution_count": 12,
     "metadata": {},
     "output_type": "execute_result"
    }
   ],
   "source": [
    "converter(2, \"kilometer\", \"meter\")"
   ]
  },
  {
   "cell_type": "markdown",
   "id": "b6665125-6ab1-4e8e-9d36-40dd24252f9e",
   "metadata": {},
   "source": [
    "## Part 3"
   ]
  },
  {
   "cell_type": "code",
   "execution_count": 17,
   "id": "1ab418ec-5f3f-406d-8185-154948e3e75a",
   "metadata": {},
   "outputs": [],
   "source": [
    "def converter(quantity, unit_from, unit_to):\n",
    "    # convertst quantity from unit_from to unit_to\n",
    "\n",
    "    # Step 1: Find the row where unit_from matches\n",
    "    for conv_dict in conversions:\n",
    "        if (conv_dict[\"unit from\"]==unit_from) and (conv_dict[\"unit to\"]==unit_to):\n",
    "            converted = quantity * int(conv_dict[\"conversion factor\"])\n",
    "            print(\"Your quantity in \" + conv_dict[\"unit to\"] + \"s is \" + str(converted))\n",
    "            break\n",
    "    return"
   ]
  },
  {
   "cell_type": "code",
   "execution_count": 18,
   "id": "587620ed-db7d-4858-ad40-0c9d0f124101",
   "metadata": {},
   "outputs": [
    {
     "name": "stdout",
     "output_type": "stream",
     "text": [
      "Your quantity in meters is 2000\n"
     ]
    }
   ],
   "source": [
    "converter(2, \"kilometer\", \"meter\")"
   ]
  },
  {
   "cell_type": "markdown",
   "id": "e270f6da-0637-4e67-9ab1-aec02212313a",
   "metadata": {},
   "source": [
    "**Testing case 1**"
   ]
  },
  {
   "cell_type": "code",
   "execution_count": 20,
   "id": "dd48b261-9ffb-4c6b-be04-49432355728f",
   "metadata": {},
   "outputs": [],
   "source": [
    "converter(27, \"slug\", \"snail\")"
   ]
  },
  {
   "cell_type": "markdown",
   "id": "d5e810fe-eab2-4412-adc9-73efa413acff",
   "metadata": {},
   "source": [
    "Mmm... nothing happened, why?\n",
    "The for loop runs for the whole list, none of those cases satisfy the condition, so it ends, and that's it, returns nothing!"
   ]
  },
  {
   "cell_type": "code",
   "execution_count": 22,
   "id": "78742132-e1cb-4a14-a084-971e08675273",
   "metadata": {},
   "outputs": [],
   "source": [
    "# Let's try printing a message after the for loop:\n",
    "def converter(quantity, unit_from, unit_to):\n",
    "    # convertst quantity from unit_from to unit_to\n",
    "\n",
    "    # Step 1: Find the row where unit_from matches\n",
    "    for conv_dict in conversions:\n",
    "        if (conv_dict[\"unit from\"]==unit_from) and (conv_dict[\"unit to\"]==unit_to):\n",
    "            converted = quantity * int(conv_dict[\"conversion factor\"])\n",
    "            print(\"Your quantity in \" + conv_dict[\"unit to\"] + \"s is \" + str(converted))\n",
    "            break\n",
    "    print(\"Nothing happened??\")\n",
    "    return"
   ]
  },
  {
   "cell_type": "code",
   "execution_count": 23,
   "id": "d5c464af-c34f-4c52-b581-0be86a1c8d08",
   "metadata": {},
   "outputs": [
    {
     "name": "stdout",
     "output_type": "stream",
     "text": [
      "Nothing happened??\n"
     ]
    }
   ],
   "source": [
    "converter(27, \"slug\", \"snail\")"
   ]
  },
  {
   "cell_type": "code",
   "execution_count": 24,
   "id": "8999269d-f7bb-4a1c-bab4-7b938dcc1ce8",
   "metadata": {},
   "outputs": [
    {
     "name": "stdout",
     "output_type": "stream",
     "text": [
      "Your quantity in meters is 2000\n",
      "Nothing happened??\n"
     ]
    }
   ],
   "source": [
    "converter(2, \"kilometer\", \"meter\")"
   ]
  },
  {
   "cell_type": "markdown",
   "id": "76189c04-3477-445b-9156-970396ef7afd",
   "metadata": {},
   "source": [
    "Hold on!, the result is printed, but we also print nothing happened. So we really should end the function if the condition ends:"
   ]
  },
  {
   "cell_type": "code",
   "execution_count": 34,
   "id": "c69196b6-c4a2-47fd-a687-62b90d73a158",
   "metadata": {},
   "outputs": [],
   "source": [
    "# Let's try printing a message after the for loop:\n",
    "def converter(quantity, unit_from, unit_to):\n",
    "    # convertst quantity from unit_from to unit_to\n",
    "\n",
    "    # Step 1: Find the row where unit_from matches\n",
    "    for conv_dict in conversions:\n",
    "        if (conv_dict[\"unit from\"]==unit_from) and (conv_dict[\"unit to\"]==unit_to):\n",
    "            converted = quantity * int(conv_dict[\"conversion factor\"])\n",
    "            print(\"Your quantity in \" + conv_dict[\"unit to\"] + \"s is \" + str(converted))\n",
    "            return\n",
    "    print(\"Nothing happened??\")\n",
    "    return"
   ]
  },
  {
   "cell_type": "code",
   "execution_count": 26,
   "id": "1c4c57ba-828e-4717-b15f-a29c1530be83",
   "metadata": {},
   "outputs": [
    {
     "name": "stdout",
     "output_type": "stream",
     "text": [
      "Nothing happened??\n"
     ]
    }
   ],
   "source": [
    "converter(27, \"slug\", \"snail\")"
   ]
  },
  {
   "cell_type": "code",
   "execution_count": 27,
   "id": "347c0175-1183-40e5-aba2-9498884ea3e6",
   "metadata": {},
   "outputs": [
    {
     "name": "stdout",
     "output_type": "stream",
     "text": [
      "Your quantity in meters is 2000\n"
     ]
    }
   ],
   "source": [
    "converter(2, \"kilometer\", \"meter\")"
   ]
  },
  {
   "cell_type": "markdown",
   "id": "bf4a63f9-2d2c-492b-b85f-e3d866102653",
   "metadata": {},
   "source": [
    "**Testing case 2**"
   ]
  },
  {
   "cell_type": "code",
   "execution_count": 35,
   "id": "77fec26e-28bb-4a93-a573-ec7bca730e1f",
   "metadata": {},
   "outputs": [
    {
     "name": "stdout",
     "output_type": "stream",
     "text": [
      "Your quantity in meters is 2222222222222222222222222222222222222222222222222222222222222222222222222222222222222222222222222222222222222222222222222222222222222222222222222222222222222222222222222222222222222222222222222222222222222222222222222222222222222222222222222222222222222222222222222222222222222222222222222222222222222222222222222222222222222222222222222222222222222222222222222222222222222222222222222222222222222222222222222222222222222222222222222222222222222222222222222222222222222222222222222222222222222222222222222222222222222222222222222222222222222222222222222222222222222222222222222222222222222222222222222222222222222222222222222222222222222222222222222222222222222222222222222222222222222222222222222222222222222222222222222222222222222222222222222222222222222222222222222222222222222222222222222222222222222222222222222222222222222222222222222222222222222222222222222222222222222222222222222222222222222222222222222222222222222222222222222222222222222222222222222222222222222222222222222222222222222222\n"
     ]
    }
   ],
   "source": [
    "converter(\"2\", \"kilometer\", \"meter\")"
   ]
  },
  {
   "cell_type": "markdown",
   "id": "ce1d718d-67bf-4793-8aae-787cd5ea6865",
   "metadata": {},
   "source": [
    "We should convert our quantity from string to integer!"
   ]
  },
  {
   "cell_type": "code",
   "execution_count": 39,
   "id": "4d8040f4-02af-4657-a630-52360f72484b",
   "metadata": {},
   "outputs": [],
   "source": [
    "# Let's try printing a message after the for loop:\n",
    "def converter(quantity, unit_from, unit_to):\n",
    "    # convertst quantity from unit_from to unit_to\n",
    "    quantity = float(quantity)\n",
    "    for conv_dict in conversions:\n",
    "        if (conv_dict[\"unit from\"]==unit_from) and (conv_dict[\"unit to\"]==unit_to):\n",
    "            converted = quantity * int(conv_dict[\"conversion factor\"])\n",
    "            print(\"Your quantity in \" + conv_dict[\"unit to\"] + \"s is \" + str(converted))\n",
    "            return\n",
    "    print(\"Nothing happened??\")\n",
    "    return"
   ]
  },
  {
   "cell_type": "code",
   "execution_count": 40,
   "id": "8583846a-6d9b-4695-9a9f-04fee853d9fa",
   "metadata": {},
   "outputs": [
    {
     "name": "stdout",
     "output_type": "stream",
     "text": [
      "Your quantity in meters is 2000.0\n"
     ]
    }
   ],
   "source": [
    "converter(\"2\", \"kilometer\", \"meter\")"
   ]
  },
  {
   "cell_type": "markdown",
   "id": "4238b53a-db0d-4b95-81b4-04b6c1a6963b",
   "metadata": {},
   "source": [
    "**Testing case 3**"
   ]
  },
  {
   "cell_type": "code",
   "execution_count": 41,
   "id": "91da463e-40ca-4525-8b53-2e6a96ec7801",
   "metadata": {},
   "outputs": [
    {
     "ename": "ValueError",
     "evalue": "could not convert string to float: 'two'",
     "output_type": "error",
     "traceback": [
      "\u001b[0;31m---------------------------------------------------------------------------\u001b[0m",
      "\u001b[0;31mValueError\u001b[0m                                Traceback (most recent call last)",
      "Cell \u001b[0;32mIn[41], line 1\u001b[0m\n\u001b[0;32m----> 1\u001b[0m converter(\u001b[38;5;124m\"\u001b[39m\u001b[38;5;124mtwo\u001b[39m\u001b[38;5;124m\"\u001b[39m, \u001b[38;5;124m\"\u001b[39m\u001b[38;5;124mkilometer\u001b[39m\u001b[38;5;124m\"\u001b[39m, \u001b[38;5;124m\"\u001b[39m\u001b[38;5;124mmeter\u001b[39m\u001b[38;5;124m\"\u001b[39m)\n",
      "Cell \u001b[0;32mIn[39], line 4\u001b[0m, in \u001b[0;36mconverter\u001b[0;34m(quantity, unit_from, unit_to)\u001b[0m\n\u001b[1;32m      2\u001b[0m \u001b[38;5;28;01mdef\u001b[39;00m \u001b[38;5;21mconverter\u001b[39m(quantity, unit_from, unit_to):\n\u001b[1;32m      3\u001b[0m     \u001b[38;5;66;03m# convertst quantity from unit_from to unit_to\u001b[39;00m\n\u001b[0;32m----> 4\u001b[0m     quantity \u001b[38;5;241m=\u001b[39m \u001b[38;5;28mfloat\u001b[39m(quantity)\n\u001b[1;32m      5\u001b[0m     \u001b[38;5;28;01mfor\u001b[39;00m conv_dict \u001b[38;5;129;01min\u001b[39;00m conversions:\n\u001b[1;32m      6\u001b[0m         \u001b[38;5;28;01mif\u001b[39;00m (conv_dict[\u001b[38;5;124m\"\u001b[39m\u001b[38;5;124munit from\u001b[39m\u001b[38;5;124m\"\u001b[39m]\u001b[38;5;241m==\u001b[39munit_from) \u001b[38;5;129;01mand\u001b[39;00m (conv_dict[\u001b[38;5;124m\"\u001b[39m\u001b[38;5;124munit to\u001b[39m\u001b[38;5;124m\"\u001b[39m]\u001b[38;5;241m==\u001b[39munit_to):\n",
      "\u001b[0;31mValueError\u001b[0m: could not convert string to float: 'two'"
     ]
    }
   ],
   "source": [
    "converter(\"two\", \"kilometer\", \"meter\")"
   ]
  },
  {
   "cell_type": "code",
   "execution_count": 48,
   "id": "445551cd-5eb3-4ad1-a81c-ad028759d955",
   "metadata": {},
   "outputs": [],
   "source": [
    "def converter(quantity, unit_from, unit_to):\n",
    "    # convertst quantity from unit_from to unit_to\n",
    "    try:\n",
    "        quantity = float(quantity)\n",
    "    except ValueError:\n",
    "        print(\"Sorry, your quantity must be a valid number\")\n",
    "        return\n",
    "    for conv_dict in conversions:\n",
    "        if (conv_dict[\"unit from\"]==unit_from) and (conv_dict[\"unit to\"]==unit_to):\n",
    "            converted = quantity * float(conv_dict[\"conversion factor\"])\n",
    "            print(\"Your quantity in \" + conv_dict[\"unit to\"] + \"s is \" + str(converted))\n",
    "            return\n",
    "    print(\"Nothing happened??\")\n",
    "    return"
   ]
  },
  {
   "cell_type": "code",
   "execution_count": 43,
   "id": "9a001750-8bcd-4a48-b4ea-6870d3072030",
   "metadata": {},
   "outputs": [
    {
     "name": "stdout",
     "output_type": "stream",
     "text": [
      "Sorry, your quantity must be a valid number\n"
     ]
    }
   ],
   "source": [
    "converter(\"two\", \"kilometer\", \"meter\")"
   ]
  },
  {
   "cell_type": "markdown",
   "id": "60aa49b2-8a44-4cbb-869e-374c6959299b",
   "metadata": {},
   "source": [
    "**More cases**"
   ]
  },
  {
   "cell_type": "code",
   "execution_count": 44,
   "id": "27e31ee8-5b1e-4c7f-9da4-e3ff9a0bb520",
   "metadata": {},
   "outputs": [
    {
     "name": "stdout",
     "output_type": "stream",
     "text": [
      "Your quantity in mLs is 1187.5\n"
     ]
    }
   ],
   "source": [
    "converter(2.5, \"pint\", \"mL\")"
   ]
  },
  {
   "cell_type": "code",
   "execution_count": 46,
   "id": "c88f6990-1db6-4e3d-acb3-05a78b84d0f4",
   "metadata": {},
   "outputs": [
    {
     "name": "stdout",
     "output_type": "stream",
     "text": [
      "Nothing happened??\n"
     ]
    }
   ],
   "source": [
    "converter(30, \"cubic foot\", \"liter\") # <-- cubic_foot"
   ]
  },
  {
   "cell_type": "code",
   "execution_count": 49,
   "id": "9c9b06cc-4a38-48d0-899d-ba365bcb2f7d",
   "metadata": {},
   "outputs": [
    {
     "name": "stdout",
     "output_type": "stream",
     "text": [
      "Your quantity in pounds is 154.43519999999998\n"
     ]
    }
   ],
   "source": [
    "converter(4.8, \"slug\", \"pound\")"
   ]
  },
  {
   "cell_type": "code",
   "execution_count": 55,
   "id": "6f520d4c-d621-4bbd-b664-1762c2980ef8",
   "metadata": {},
   "outputs": [],
   "source": [
    "# Let's deal with the cubic foot part:\n",
    "def converter(quantity, unit_from, unit_to):\n",
    "    \"\"\"Converts quantity from unit_from to unit_to\"\"\"\n",
    "    # Step 1: Handle quantity in string or invalid quantity\n",
    "    try:\n",
    "        quantity = float(quantity)\n",
    "    except ValueError:\n",
    "        print(\"Sorry, your quantity must be a valid number\")\n",
    "        return\n",
    "    # Step 2: join strings of units if separated by space:\n",
    "    unit_from = \"_\".join(unit_from.split(\" \"))   # another solution is unit_from.replace(\" \", \"_\")\n",
    "    unit_to = \"_\".join(unit_to.split(\" \"))\n",
    "    \n",
    "    for conv_dict in conversions:\n",
    "        if (conv_dict[\"unit from\"]==unit_from) and (conv_dict[\"unit to\"]==unit_to):\n",
    "            converted = quantity * float(conv_dict[\"conversion factor\"])\n",
    "            converted = round(converted, 2)\n",
    "            print(\"Your quantity in \" + conv_dict[\"unit to\"] + \"s is \" + str(converted))\n",
    "            return\n",
    "    print(\"Conversion not found\")\n",
    "    return"
   ]
  },
  {
   "cell_type": "code",
   "execution_count": 56,
   "id": "2ca1d7a1-221c-4173-b6e3-fb2db6067c53",
   "metadata": {},
   "outputs": [
    {
     "name": "stdout",
     "output_type": "stream",
     "text": [
      "Your quantity in liters is 849.6\n"
     ]
    }
   ],
   "source": [
    "converter(30, \"cubic foot\", \"liter\")"
   ]
  },
  {
   "cell_type": "code",
   "execution_count": 57,
   "id": "9ba026ab-64ed-4dee-9be0-8ea05de05264",
   "metadata": {},
   "outputs": [
    {
     "name": "stdout",
     "output_type": "stream",
     "text": [
      "Your quantity in pounds is 154.44\n"
     ]
    }
   ],
   "source": [
    "converter(4.8, \"slug\", \"pound\")"
   ]
  },
  {
   "cell_type": "code",
   "execution_count": 58,
   "id": "fba3a427-3eb4-40f2-af15-4b4558c4d440",
   "metadata": {},
   "outputs": [
    {
     "name": "stdout",
     "output_type": "stream",
     "text": [
      "Your quantity in meters is 2000.0\n"
     ]
    }
   ],
   "source": [
    "converter(\"2\", \"kilometer\", \"meter\")"
   ]
  },
  {
   "cell_type": "code",
   "execution_count": 59,
   "id": "d667df2c-8979-4553-ae69-2217817d6f97",
   "metadata": {},
   "outputs": [
    {
     "name": "stdout",
     "output_type": "stream",
     "text": [
      "Sorry, your quantity must be a valid number\n"
     ]
    }
   ],
   "source": [
    "converter(\"two\", \"kilometer\", \"meter\")"
   ]
  },
  {
   "cell_type": "code",
   "execution_count": 60,
   "id": "ccdb0c2d-8587-49a7-be38-86bb17a9c252",
   "metadata": {},
   "outputs": [
    {
     "name": "stdout",
     "output_type": "stream",
     "text": [
      "Conversion not found\n"
     ]
    }
   ],
   "source": [
    "converter(27, \"slug\", \"snail\")"
   ]
  },
  {
   "cell_type": "markdown",
   "id": "f7da33cd-6c81-4152-a829-c132648586f3",
   "metadata": {},
   "source": [
    "## Bonus"
   ]
  },
  {
   "cell_type": "markdown",
   "id": "90e84186-ebae-4a5b-9fcc-5d1edf6d97c9",
   "metadata": {},
   "source": [
    "**Case 1 - lowercase**"
   ]
  },
  {
   "cell_type": "code",
   "execution_count": 61,
   "id": "bfb91cbf-b118-425f-9544-6d46e6dfe9f1",
   "metadata": {},
   "outputs": [
    {
     "name": "stdout",
     "output_type": "stream",
     "text": [
      "Conversion not found\n"
     ]
    }
   ],
   "source": [
    "converter(1, \"KM/H\", \"m/Sec\")"
   ]
  },
  {
   "cell_type": "code",
   "execution_count": 62,
   "id": "c0c23228-6a2a-4757-ae0e-dfb1fc34c73c",
   "metadata": {},
   "outputs": [],
   "source": [
    "def converter(quantity, unit_from, unit_to):\n",
    "    \"\"\"Converts quantity from unit_from to unit_to\"\"\"\n",
    "    # Step 1: Handle quantity in string or invalid quantity\n",
    "    try:\n",
    "        quantity = float(quantity)\n",
    "    except ValueError:\n",
    "        print(\"Sorry, your quantity must be a valid number\")\n",
    "        return\n",
    "    \n",
    "    # Step 2: Join strings of units if separated by space:\n",
    "    unit_from = \"_\".join(unit_from.split(\" \")).lower()\n",
    "    unit_to = \"_\".join(unit_to.split(\" \")).lower()\n",
    "    \n",
    "    # Step 3: Find conversion factor and return result\n",
    "    for conv_dict in conversions:\n",
    "        if (conv_dict[\"unit from\"]==unit_from) and (conv_dict[\"unit to\"]==unit_to):\n",
    "            converted = quantity * float(conv_dict[\"conversion factor\"])\n",
    "            converted = round(converted, 2)\n",
    "            print(\"Your quantity in \" + conv_dict[\"unit to\"] + \"s is \" + str(converted))\n",
    "            return\n",
    "    print(\"Conversion not found\")\n",
    "    return"
   ]
  },
  {
   "cell_type": "code",
   "execution_count": 63,
   "id": "e3194fc2-4a2c-4722-b09b-65145e776406",
   "metadata": {},
   "outputs": [
    {
     "name": "stdout",
     "output_type": "stream",
     "text": [
      "Your quantity in m/secs is 0.28\n"
     ]
    }
   ],
   "source": [
    "converter(1, \"KM/H\", \"m/Sec\")"
   ]
  },
  {
   "cell_type": "markdown",
   "id": "a84f786d-e23b-4754-9d74-4bda495e0212",
   "metadata": {},
   "source": [
    "**Case 2 - inverse conversion**"
   ]
  },
  {
   "cell_type": "code",
   "execution_count": 64,
   "id": "93344ab8-19d1-45ef-955a-cb2e5c9365af",
   "metadata": {},
   "outputs": [
    {
     "name": "stdout",
     "output_type": "stream",
     "text": [
      "Your quantity in ergss is 107.0\n"
     ]
    }
   ],
   "source": [
    "converter(1, \"joule\", \"ergs\")"
   ]
  },
  {
   "cell_type": "code",
   "execution_count": 65,
   "id": "9fc02693-1388-4e7a-b905-1905d93187a4",
   "metadata": {},
   "outputs": [
    {
     "name": "stdout",
     "output_type": "stream",
     "text": [
      "Conversion not found\n"
     ]
    }
   ],
   "source": [
    "converter(1, \"ergs\", \"joule\")"
   ]
  },
  {
   "cell_type": "code",
   "execution_count": 80,
   "id": "d6c1a0a6-3bc5-498a-9eb9-8421bb4df80f",
   "metadata": {},
   "outputs": [],
   "source": [
    "def converter(quantity, unit_from, unit_to):\n",
    "    \"\"\"Converts quantity from unit_from to unit_to\"\"\"\n",
    "    # Step 1: Handle quantity in string or invalid quantity\n",
    "    try:\n",
    "        quantity = float(quantity)\n",
    "    except ValueError:\n",
    "        print(\"Sorry, your quantity must be a valid number\")\n",
    "        return\n",
    "    \n",
    "    # Step 2: Join strings of units if separated by space:\n",
    "    unit_from = \"_\".join(unit_from.split(\" \")).lower()\n",
    "    unit_to = \"_\".join(unit_to.split(\" \")).lower()\n",
    "    # Step 3: Find conversion factor and return result\n",
    "    for conv_dict in conversions:\n",
    "        if (conv_dict[\"unit from\"].lower()==unit_from) and (conv_dict[\"unit to\"].lower()==unit_to):\n",
    "            converted = quantity * float(conv_dict[\"conversion factor\"])\n",
    "            converted = round(converted, 2)\n",
    "            print(\"Your quantity in \" + conv_dict[\"unit to\"] + \"s is \" + str(converted))\n",
    "            return\n",
    "        elif (conv_dict[\"unit from\"].lower()==unit_to) and (conv_dict[\"unit to\"].lower()==unit_from):\n",
    "            # backward conversion\n",
    "            converted = quantity / float(conv_dict[\"conversion factor\"])\n",
    "            converted = round(converted, 2)\n",
    "            print(\"Your quantity in \" + conv_dict[\"unit to\"] + \"s is \" + str(converted))\n",
    "            return\n",
    "    print(\"Conversion not found\")\n",
    "    return"
   ]
  },
  {
   "cell_type": "code",
   "execution_count": 67,
   "id": "588cb1e6-c514-4ae7-962c-62e1145bcdd6",
   "metadata": {},
   "outputs": [
    {
     "name": "stdout",
     "output_type": "stream",
     "text": [
      "Your quantity in ergss is 107.0\n"
     ]
    }
   ],
   "source": [
    "converter(1, \"joule\", \"ergs\")"
   ]
  },
  {
   "cell_type": "code",
   "execution_count": 68,
   "id": "6be0e221-5be7-4b69-bd8d-fab620bd49b4",
   "metadata": {},
   "outputs": [
    {
     "name": "stdout",
     "output_type": "stream",
     "text": [
      "Your quantity in ergss is 0.01\n"
     ]
    }
   ],
   "source": [
    "converter(1, \"ergs\", \"joule\")"
   ]
  },
  {
   "cell_type": "markdown",
   "id": "0cd435b1-8d96-4f2e-ba46-53ac2f711926",
   "metadata": {},
   "source": [
    "**Many Cases**"
   ]
  },
  {
   "cell_type": "code",
   "execution_count": 83,
   "id": "1635c147-8238-4b6b-be89-42c00aff183d",
   "metadata": {},
   "outputs": [],
   "source": [
    "test_cases = [{\"test_unit\":   \"pint\",        \"test_value\": 2.5,   \"final_unit\": \"mL\"},\n",
    "                {\"test_unit\": \"cubic foot\",  \"test_value\": 30,    \"final_unit\": \"liter\"},\n",
    "                {\"test_unit\": \"slug\",        \"test_value\": \"4.8\", \"final_unit\": \"pound\"},\n",
    "                {\"test_unit\": \"slug\",        \"test_value\": 27.0,  \"final_unit\": \"snail\"},\n",
    "                {\"test_unit\": [],            \"test_value\": 2.5,   \"final_unit\": \"meter\"},     # <-- Testing weird inputs\n",
    "                {\"test_unit\": 1,            \"test_value\": 2.5,   \"final_unit\": \"meter\"},\n",
    "                {\"test_unit\": \"kilometer\",   \"test_value\": [],    \"final_unit\": \"meter\"},\n",
    "                {\"test_unit\": \"KM/H\",        \"test_value\": 8.4,   \"final_unit\": \"m/Sec\"},     # <-- Testing capitalization\n",
    "                {\"test_unit\": \"ergs\",        \"test_value\": 8.4,   \"final_unit\": \"joule\"},     # <-- Inverse conversion\n",
    "                {\"test_unit\": \"tablespoons\", \"test_value\": 2,     \"final_unit\": \"cup\"}        # <-- conversion factor written as fraction\n",
    "]"
   ]
  },
  {
   "cell_type": "code",
   "execution_count": 94,
   "id": "803c9fb6-df47-45c4-a526-1a9fb7d17896",
   "metadata": {},
   "outputs": [
    {
     "name": "stdout",
     "output_type": "stream",
     "text": [
      "Testing 2.5 from pint to mL:\n",
      "Your quantity in mLs is 1187.5\n",
      "\n",
      "\n",
      "Testing 30 from cubic foot to liter:\n",
      "Your quantity in cubic_foots is 849.38\n",
      "\n",
      "\n",
      "Testing 4.8 from slug to pound:\n",
      "Your quantity in slugs is 154.44\n",
      "\n",
      "\n",
      "Testing 27.0 from slug to snail:\n",
      "Conversion not found\n",
      "\n",
      "\n",
      "Testing 2.5 from [] to meter:\n",
      "Something wrong with your units, please double check\n",
      "\n",
      "\n",
      "Testing 2.5 from 1 to meter:\n",
      "Something wrong with your units, please double check\n",
      "\n",
      "\n",
      "Testing [] from kilometer to meter:\n",
      "Sorry, your quantity must be a valid number\n",
      "\n",
      "\n",
      "Testing 8.4 from KM/H to m/Sec:\n",
      "Your quantity in m/secs is 2.33\n",
      "\n",
      "\n",
      "Testing 8.4 from ergs to joule:\n",
      "Your quantity in ergss is 0.08\n",
      "\n",
      "\n",
      "Testing 2 from tablespoons to cup:\n",
      "Your quantity in cups is 0.12\n",
      "\n",
      "\n"
     ]
    }
   ],
   "source": [
    "for test in test_cases:\n",
    "    print(f\"Testing {test['test_value']} from {test['test_unit']} to {test['final_unit']}:\")\n",
    "    converter(test[\"test_value\"], test[\"test_unit\"], test[\"final_unit\"])\n",
    "    print(\"\\n\")"
   ]
  },
  {
   "cell_type": "code",
   "execution_count": 89,
   "id": "f10226ba-f0ce-42fd-9c14-ec78f26c7b36",
   "metadata": {},
   "outputs": [],
   "source": [
    "def converter(quantity, unit_from, unit_to):\n",
    "    \"\"\"Converts quantity from unit_from to unit_to\"\"\"\n",
    "    # Step 1: Handle quantity in string or invalid quantity\n",
    "    try:\n",
    "        quantity = float(quantity)\n",
    "    except (ValueError, TypeError):\n",
    "        print(\"Sorry, your quantity must be a valid number\")\n",
    "        return\n",
    "    \n",
    "    # Step 2: Join strings of units if separated by space:\n",
    "    try:\n",
    "        unit_from = \"_\".join(unit_from.split(\" \")).lower()\n",
    "        unit_to = \"_\".join(unit_to.split(\" \")).lower()\n",
    "    except AttributeError:\n",
    "        print(\"Something wrong with your units, please double check\")\n",
    "        return\n",
    "    \n",
    "    # Step 3: Find conversion factor and return result\n",
    "    for conv_dict in conversions:\n",
    "        if (conv_dict[\"unit from\"].lower()==unit_from) and (conv_dict[\"unit to\"].lower()==unit_to):\n",
    "            converted = quantity * float(conv_dict[\"conversion factor\"])\n",
    "            converted = round(converted, 2)\n",
    "            print(\"Your quantity in \" + conv_dict[\"unit to\"] + \"s is \" + str(converted))\n",
    "            return\n",
    "        elif (conv_dict[\"unit from\"].lower()==unit_to) and (conv_dict[\"unit to\"].lower()==unit_from):\n",
    "            # backward conversion\n",
    "            converted = quantity / float(conv_dict[\"conversion factor\"])\n",
    "            converted = round(converted, 2)\n",
    "            print(\"Your quantity in \" + conv_dict[\"unit to\"] + \"s is \" + str(converted))\n",
    "            return\n",
    "    print(\"Conversion not found\")\n",
    "    return"
   ]
  },
  {
   "cell_type": "code",
   "execution_count": null,
   "id": "6d150ff0-d8e1-4581-808b-0800734860ad",
   "metadata": {},
   "outputs": [],
   "source": []
  }
 ],
 "metadata": {
  "kernelspec": {
   "display_name": "Python 3 (ipykernel)",
   "language": "python",
   "name": "python3"
  },
  "language_info": {
   "codemirror_mode": {
    "name": "ipython",
    "version": 3
   },
   "file_extension": ".py",
   "mimetype": "text/x-python",
   "name": "python",
   "nbconvert_exporter": "python",
   "pygments_lexer": "ipython3",
   "version": "3.11.5"
  }
 },
 "nbformat": 4,
 "nbformat_minor": 5
}
