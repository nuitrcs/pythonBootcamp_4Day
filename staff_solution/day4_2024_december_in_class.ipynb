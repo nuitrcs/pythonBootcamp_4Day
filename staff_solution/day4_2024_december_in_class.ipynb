{
 "cells": [
  {
   "cell_type": "markdown",
   "id": "2bce906e-cf45-4169-9b0e-3c33c4876d5b",
   "metadata": {},
   "source": [
    "## Part 1"
   ]
  },
  {
   "cell_type": "markdown",
   "id": "4879e376-e0d4-4f90-ad48-7c9aa548f2a0",
   "metadata": {},
   "source": [
    "**Step 1: Load the data**"
   ]
  },
  {
   "cell_type": "code",
   "execution_count": 2,
   "id": "810df64b-dbd2-4b8a-8e2c-5bedf16d1285",
   "metadata": {},
   "outputs": [],
   "source": [
    "# Step 0: Only if you are in google colab:\n",
    "i_am_using_colab = 0                # <-- Change this to 1 if you are using Colab\n",
    "if i_am_using_colab:\n",
    "    !wget https://raw.githubusercontent.com/nuitrcs/pythonBootcamp_4Day/main/conversionMeasures.csv"
   ]
  },
  {
   "cell_type": "markdown",
   "id": "31c0a75c",
   "metadata": {},
   "source": [
    "We will take the list of dictionaries approach:"
   ]
  },
  {
   "cell_type": "code",
   "execution_count": 12,
   "id": "9ea0ecbb-6caa-48df-adff-9822b8a308b5",
   "metadata": {
    "scrolled": true
   },
   "outputs": [
    {
     "data": {
      "text/plain": [
       "[{'unit from': 'kilometer', 'conversion factor': '1000', 'unit to': 'meter'},\n",
       " {'unit from': 'meter', 'conversion factor': '100', 'unit to': 'centimeter'},\n",
       " {'unit from': 'inch', 'conversion factor': '2.54', 'unit to': 'centimeter'},\n",
       " {'unit from': 'foot', 'conversion factor': '30.48', 'unit to': 'centimeter'},\n",
       " {'unit from': 'mile', 'conversion factor': '1.609', 'unit to': 'kilometer'}]"
      ]
     },
     "execution_count": 12,
     "metadata": {},
     "output_type": "execute_result"
    }
   ],
   "source": [
    "# Step 1: Load the data\n",
    "\n",
    "data_file = \"conversionMeasures.csv\"\n",
    "\n",
    "with open(data_file, \"r\") as f:\n",
    "    conversions_raw = f.read().split(\"\\n\")\n",
    "\n",
    "conversions = []\n",
    "for row in conversions_raw:\n",
    "    row_dict = {}\n",
    "    c_list = row.split(\",\")\n",
    "    row_dict[\"unit from\"] = c_list[0]\n",
    "    row_dict[\"conversion factor\"] = c_list[1]\n",
    "    row_dict[\"unit to\"] = c_list[2]\n",
    "    conversions.append(row_dict)\n",
    "\n",
    "conversions[0:5]"
   ]
  },
  {
   "cell_type": "code",
   "execution_count": 13,
   "id": "7f25f2b9-3fd7-4667-ae78-3fa298f825c1",
   "metadata": {},
   "outputs": [
    {
     "data": {
      "text/plain": [
       "['kilometer,1000,meter',\n",
       " 'meter,100,centimeter',\n",
       " 'inch,2.54,centimeter',\n",
       " 'foot,30.48,centimeter',\n",
       " 'mile,1.609,kilometer']"
      ]
     },
     "execution_count": 13,
     "metadata": {},
     "output_type": "execute_result"
    }
   ],
   "source": [
    "conversions_raw[0:5]"
   ]
  },
  {
   "cell_type": "markdown",
   "id": "eb9edc64-0237-4f02-9017-2ce7c1738a5e",
   "metadata": {},
   "source": [
    "## Lists and Dictionaries"
   ]
  },
  {
   "cell_type": "markdown",
   "id": "09d64097",
   "metadata": {},
   "source": [
    "Quick recap on how to index/key lists and dictionaries:"
   ]
  },
  {
   "cell_type": "code",
   "execution_count": 46,
   "id": "c94f23ff-eae5-4c05-ac1a-aa989431a463",
   "metadata": {},
   "outputs": [
    {
     "data": {
      "text/plain": [
       "[[1, 2, 3], [4, 5, 6]]"
      ]
     },
     "execution_count": 46,
     "metadata": {},
     "output_type": "execute_result"
    }
   ],
   "source": [
    "temp_list_of_lists = [[1,2,3], [4,5,6]]\n",
    "temp_list_of_lists"
   ]
  },
  {
   "cell_type": "code",
   "execution_count": 48,
   "id": "30b26d26-7288-4827-9bd1-51ae97f29e84",
   "metadata": {},
   "outputs": [
    {
     "name": "stdout",
     "output_type": "stream",
     "text": [
      "[1, 2, 3]\n",
      "1\n"
     ]
    }
   ],
   "source": [
    "print(temp_list_of_lists[0])\n",
    "print(temp_list_of_lists[0][0])"
   ]
  },
  {
   "cell_type": "code",
   "execution_count": 62,
   "id": "f1094947-0896-4f06-8deb-fe1cb0e3b0b3",
   "metadata": {},
   "outputs": [
    {
     "data": {
      "text/plain": [
       "[{'key1': 1, 'key2': 3}, {'key1': 10, 'key2': 5}]"
      ]
     },
     "execution_count": 62,
     "metadata": {},
     "output_type": "execute_result"
    }
   ],
   "source": [
    "temp_list_of_dicts = [{\"key1\": 1, \"key2\": 3},\n",
    "                      {\"key1\":10, \"key2\":5}]\n",
    "temp_list_of_dicts"
   ]
  },
  {
   "cell_type": "code",
   "execution_count": 50,
   "id": "e4f725c0-9820-4b1f-b420-e1a2431967ae",
   "metadata": {},
   "outputs": [
    {
     "data": {
      "text/plain": [
       "{'key1': 1, 'key2': 3}"
      ]
     },
     "execution_count": 50,
     "metadata": {},
     "output_type": "execute_result"
    }
   ],
   "source": [
    "temp_list_of_dicts[0]"
   ]
  },
  {
   "cell_type": "code",
   "execution_count": 52,
   "id": "56e02a5b-ffda-4e64-9bba-4b4ffa46a1da",
   "metadata": {
    "scrolled": true
   },
   "outputs": [
    {
     "data": {
      "text/plain": [
       "3"
      ]
     },
     "execution_count": 52,
     "metadata": {},
     "output_type": "execute_result"
    }
   ],
   "source": [
    "temp_list_of_dicts[0][\"key2\"]"
   ]
  },
  {
   "cell_type": "code",
   "execution_count": 53,
   "id": "deb44271-3815-4c0a-af69-bd772f8dfdb1",
   "metadata": {},
   "outputs": [
    {
     "data": {
      "text/plain": [
       "{'dict1': {'key1': 10, 'key2': 20}, 'dict2': {'key1': 3, 'key2': 5}}"
      ]
     },
     "execution_count": 53,
     "metadata": {},
     "output_type": "execute_result"
    }
   ],
   "source": [
    "temp_dict_of_dicts = {\"dict1\": {\"key1\": 10, \"key2\": 20},\n",
    "                      \"dict2\": {\"key1\": 3, \"key2\": 5}\n",
    "                     }\n",
    "temp_dict_of_dicts"
   ]
  },
  {
   "cell_type": "code",
   "execution_count": 54,
   "id": "69d0f9a5-9419-4dc1-973e-cbd9ac29105c",
   "metadata": {},
   "outputs": [
    {
     "data": {
      "text/plain": [
       "{'key1': 10, 'key2': 20}"
      ]
     },
     "execution_count": 54,
     "metadata": {},
     "output_type": "execute_result"
    }
   ],
   "source": [
    "temp_dict_of_dicts[\"dict1\"]"
   ]
  },
  {
   "cell_type": "code",
   "execution_count": 55,
   "id": "3f30ee29-165a-4ab9-82c5-cfbc14a21eb9",
   "metadata": {},
   "outputs": [
    {
     "data": {
      "text/plain": [
       "10"
      ]
     },
     "execution_count": 55,
     "metadata": {},
     "output_type": "execute_result"
    }
   ],
   "source": [
    "temp_dict_of_dicts[\"dict1\"][\"key1\"]"
   ]
  },
  {
   "cell_type": "markdown",
   "id": "1120a464-2dc4-4135-9e6d-ce22084135f8",
   "metadata": {},
   "source": [
    "## Part 2"
   ]
  },
  {
   "cell_type": "markdown",
   "id": "607977c7",
   "metadata": {},
   "source": [
    "We will work on the list of dictionaries approach, but first let's review how John did it with a list of lists:"
   ]
  },
  {
   "cell_type": "code",
   "execution_count": 14,
   "id": "3ca7b082-0d65-4079-afb7-7a1fb6a5d8ee",
   "metadata": {},
   "outputs": [
    {
     "data": {
      "text/plain": [
       "[['kilometer', '1000', 'meter'],\n",
       " ['meter', '100', 'centimeter'],\n",
       " ['inch', '2.54', 'centimeter'],\n",
       " ['foot', '30.48', 'centimeter'],\n",
       " ['mile', '1.609', 'kilometer']]"
      ]
     },
     "execution_count": 14,
     "metadata": {},
     "output_type": "execute_result"
    }
   ],
   "source": [
    "clean_data = []\n",
    "for row in conversions_raw:\n",
    "    row_list = row.split(\",\")\n",
    "    clean_data.append(row_list)\n",
    "clean_data[0:5]"
   ]
  },
  {
   "cell_type": "code",
   "execution_count": 20,
   "id": "278a69d8-6040-45bc-b998-97961b46f1cc",
   "metadata": {},
   "outputs": [
    {
     "name": "stdout",
     "output_type": "stream",
     "text": [
      "your converstion factor is: 30.48\n"
     ]
    }
   ],
   "source": [
    "for line in clean_data:\n",
    "    if (line[0]=='foot') and (line[2]=='centimeter'):\n",
    "        print(\"your converstion factor is: \" + line[1])"
   ]
  },
  {
   "cell_type": "code",
   "execution_count": 18,
   "id": "8ab61884-2fbd-4fe5-9efd-0461fb44d362",
   "metadata": {},
   "outputs": [],
   "source": [
    "def find_conversion_factor(from_unit, to_unit):\n",
    "    for line in clean_data:\n",
    "        # check for matching units\n",
    "        if line[0] == from_unit and line[2] == to_unit:\n",
    "            return line[1] # return conversion factor\n",
    "\n",
    "def convert_value(value, conversion_factor):\n",
    "    return value*float(conversion_factor)"
   ]
  },
  {
   "cell_type": "code",
   "execution_count": 19,
   "id": "32ea2cb8-d0f0-4bd6-b24a-98db1b1cf4d2",
   "metadata": {},
   "outputs": [
    {
     "data": {
      "text/plain": [
       "2000.0"
      ]
     },
     "execution_count": 19,
     "metadata": {},
     "output_type": "execute_result"
    }
   ],
   "source": [
    "cf = find_conversion_factor(\"kilometer\", \"meter\")\n",
    "convert_value(2, cf)"
   ]
  },
  {
   "cell_type": "markdown",
   "id": "44a8c20a",
   "metadata": {},
   "source": [
    "Now we will unify the two functions above, BUT we will switch to the list of dictionaries approach. Note that the main difference is that when we access conversion units and factors from our data, with lists with index 0,1,2, as above, and with dictionaries we will access by key name, as below."
   ]
  },
  {
   "cell_type": "code",
   "execution_count": 21,
   "id": "34273278-7553-43dd-a97b-0a017347ad55",
   "metadata": {},
   "outputs": [
    {
     "data": {
      "text/plain": [
       "[{'unit from': 'kilometer', 'conversion factor': '1000', 'unit to': 'meter'},\n",
       " {'unit from': 'meter', 'conversion factor': '100', 'unit to': 'centimeter'},\n",
       " {'unit from': 'inch', 'conversion factor': '2.54', 'unit to': 'centimeter'},\n",
       " {'unit from': 'foot', 'conversion factor': '30.48', 'unit to': 'centimeter'},\n",
       " {'unit from': 'mile', 'conversion factor': '1.609', 'unit to': 'kilometer'}]"
      ]
     },
     "execution_count": 21,
     "metadata": {},
     "output_type": "execute_result"
    }
   ],
   "source": [
    "conversions[0:5]"
   ]
  },
  {
   "cell_type": "code",
   "execution_count": 56,
   "id": "dfb1bfc2-590f-4bb8-9595-50102eab961a",
   "metadata": {},
   "outputs": [],
   "source": [
    "def converter(quantity, unit_from, unit_to):\n",
    "    # Converts quantity from unit_from to unit_to\n",
    "\n",
    "    for conv_dict in conversions:\n",
    "        if (conv_dict['unit from']==unit_from) and (conv_dict['unit to']==unit_to):\n",
    "            new_quantity = quantity * float(conv_dict['conversion factor'])\n",
    "            print(\"Your new quantity is: \" + str(new_quantity))\n",
    "            return\n",
    "    print(\"Hey, I think nothing happened???\")\n",
    "    return"
   ]
  },
  {
   "cell_type": "code",
   "execution_count": 57,
   "id": "ed0a85bd-ca14-4c69-9028-0a5f5538fe37",
   "metadata": {},
   "outputs": [
    {
     "name": "stdout",
     "output_type": "stream",
     "text": [
      "Hey, I think nothing happened???\n"
     ]
    }
   ],
   "source": [
    "converter(2, \"hello\", \"meter\")"
   ]
  },
  {
   "cell_type": "code",
   "execution_count": 64,
   "id": "abf37c55-d8ff-4dba-bc63-f8567ace71fd",
   "metadata": {},
   "outputs": [],
   "source": [
    "def converter(quantity, unit_from, unit_to):\n",
    "    # converts quantity from unit_from to unit_to\n",
    "\n",
    "    # Step 1: Find the row where unit_from matches\n",
    "    for conv_dict in conversions:\n",
    "        if (conv_dict[\"unit from\"]==unit_from) and (conv_dict[\"unit to\"]==unit_to):\n",
    "            converted = quantity * int(conv_dict[\"conversion factor\"])\n",
    "            print(\"Your new quantity is: \" + str(converted))\n",
    "            return\n",
    "    print(\"Hey, I think nothing happened???\")\n",
    "    return"
   ]
  },
  {
   "cell_type": "code",
   "execution_count": 65,
   "id": "bb53d559-2ff0-42ec-815d-c94a5ed1d580",
   "metadata": {},
   "outputs": [
    {
     "name": "stdout",
     "output_type": "stream",
     "text": [
      "Your new quantity is: 2000\n"
     ]
    }
   ],
   "source": [
    "converter(2, \"kilometer\", \"meter\")"
   ]
  },
  {
   "cell_type": "markdown",
   "id": "3446128f-4033-4eab-aa87-7108d95759c1",
   "metadata": {},
   "source": [
    "## Part 3"
   ]
  },
  {
   "cell_type": "code",
   "execution_count": 66,
   "id": "73ac5ff0-f14b-4101-9f45-7e4976bc14ee",
   "metadata": {},
   "outputs": [
    {
     "name": "stdout",
     "output_type": "stream",
     "text": [
      "Your new quantity is: 2222222222222222222222222222222222222222222222222222222222222222222222222222222222222222222222222222222222222222222222222222222222222222222222222222222222222222222222222222222222222222222222222222222222222222222222222222222222222222222222222222222222222222222222222222222222222222222222222222222222222222222222222222222222222222222222222222222222222222222222222222222222222222222222222222222222222222222222222222222222222222222222222222222222222222222222222222222222222222222222222222222222222222222222222222222222222222222222222222222222222222222222222222222222222222222222222222222222222222222222222222222222222222222222222222222222222222222222222222222222222222222222222222222222222222222222222222222222222222222222222222222222222222222222222222222222222222222222222222222222222222222222222222222222222222222222222222222222222222222222222222222222222222222222222222222222222222222222222222222222222222222222222222222222222222222222222222222222222222222222222222222222222222222222222222222222222222\n"
     ]
    }
   ],
   "source": [
    "converter(\"2\", \"kilometer\", \"meter\")"
   ]
  },
  {
   "cell_type": "markdown",
   "id": "464611b7-b4f9-4957-ab6c-b2816052d65c",
   "metadata": {},
   "source": [
    "**Dealing with quantities as strings**"
   ]
  },
  {
   "cell_type": "code",
   "execution_count": 70,
   "id": "3925f79a-dc77-4af2-8ca1-c96df34084da",
   "metadata": {},
   "outputs": [],
   "source": [
    "def converter(quantity, unit_from, unit_to):\n",
    "    # converts quantity from unit_from to unit_to\n",
    "\n",
    "    # Step 1: Convert quantity to numeric:\n",
    "    quantity = float(quantity)\n",
    "\n",
    "    # Step 2: Find the row where unit_from matches\n",
    "    for conv_dict in conversions:\n",
    "        if (conv_dict[\"unit from\"]==unit_from) and (conv_dict[\"unit to\"]==unit_to):\n",
    "            converted = quantity * int(conv_dict[\"conversion factor\"])\n",
    "            print(\"Your new quantity is: \" + str(converted))\n",
    "            return\n",
    "    print(\"Hey, I think nothing happened???\")\n",
    "    return"
   ]
  },
  {
   "cell_type": "code",
   "execution_count": 72,
   "id": "4e2ce654-8ce8-4e4a-9d3c-cc2e5209dbad",
   "metadata": {},
   "outputs": [
    {
     "name": "stdout",
     "output_type": "stream",
     "text": [
      "Your new quantity is: 2000.0\n"
     ]
    }
   ],
   "source": [
    "converter(\"2\", \"kilometer\", \"meter\")"
   ]
  },
  {
   "cell_type": "markdown",
   "id": "1d1d290a-a848-48e6-9ee8-242c00ad6de8",
   "metadata": {},
   "source": [
    "**Dealing with unexpected quantity**"
   ]
  },
  {
   "cell_type": "code",
   "execution_count": 74,
   "id": "7a0f567d-61ba-4660-a29a-b149132f1f08",
   "metadata": {},
   "outputs": [
    {
     "ename": "ValueError",
     "evalue": "could not convert string to float: 'two'",
     "output_type": "error",
     "traceback": [
      "\u001b[0;31m---------------------------------------------------------------------------\u001b[0m",
      "\u001b[0;31mValueError\u001b[0m                                Traceback (most recent call last)",
      "Cell \u001b[0;32mIn[74], line 1\u001b[0m\n\u001b[0;32m----> 1\u001b[0m converter(\u001b[38;5;124m\"\u001b[39m\u001b[38;5;124mtwo\u001b[39m\u001b[38;5;124m\"\u001b[39m, \u001b[38;5;124m\"\u001b[39m\u001b[38;5;124mkilometer\u001b[39m\u001b[38;5;124m\"\u001b[39m, \u001b[38;5;124m\"\u001b[39m\u001b[38;5;124mmeter\u001b[39m\u001b[38;5;124m\"\u001b[39m)\n",
      "Cell \u001b[0;32mIn[70], line 5\u001b[0m, in \u001b[0;36mconverter\u001b[0;34m(quantity, unit_from, unit_to)\u001b[0m\n\u001b[1;32m      1\u001b[0m \u001b[38;5;28;01mdef\u001b[39;00m \u001b[38;5;21mconverter\u001b[39m(quantity, unit_from, unit_to):\n\u001b[1;32m      2\u001b[0m     \u001b[38;5;66;03m# converts quantity from unit_from to unit_to\u001b[39;00m\n\u001b[1;32m      3\u001b[0m \n\u001b[1;32m      4\u001b[0m     \u001b[38;5;66;03m# Step 1: Convert quantity to numeric:\u001b[39;00m\n\u001b[0;32m----> 5\u001b[0m     quantity \u001b[38;5;241m=\u001b[39m \u001b[38;5;28mfloat\u001b[39m(quantity)\n\u001b[1;32m      7\u001b[0m     \u001b[38;5;66;03m# Step 2: Find the row where unit_from matches\u001b[39;00m\n\u001b[1;32m      8\u001b[0m     \u001b[38;5;28;01mfor\u001b[39;00m conv_dict \u001b[38;5;129;01min\u001b[39;00m conversions:\n",
      "\u001b[0;31mValueError\u001b[0m: could not convert string to float: 'two'"
     ]
    }
   ],
   "source": [
    "converter(\"two\", \"kilometer\", \"meter\")"
   ]
  },
  {
   "cell_type": "code",
   "execution_count": 88,
   "id": "284fa354-c6fa-4c71-9a5e-b9bd78780559",
   "metadata": {},
   "outputs": [],
   "source": [
    "def converter(quantity, unit_from, unit_to):\n",
    "    # converts quantity from unit_from to unit_to\n",
    "\n",
    "    # Step 1: Convert quantity to numeric:\n",
    "    try:\n",
    "        quantity = float(quantity)\n",
    "    except ValueError:\n",
    "        print(\"Hey, give me a valid quantity, please\")\n",
    "        return\n",
    "\n",
    "    # Step 2: Find the row where unit_from matches\n",
    "    for conv_dict in conversions:\n",
    "        if (conv_dict[\"unit from\"]==unit_from) and (conv_dict[\"unit to\"]==unit_to):\n",
    "            converted = quantity * float(conv_dict[\"conversion factor\"])\n",
    "            print(\"Your new quantity is: \" + str(converted))\n",
    "            return\n",
    "    print(\"We didn't find the conversion. Make sure you input a valid unit.\")\n",
    "    return"
   ]
  },
  {
   "cell_type": "code",
   "execution_count": 86,
   "id": "484cbd3c-1ec9-4b66-bd6d-cfc686dd949a",
   "metadata": {},
   "outputs": [
    {
     "name": "stdout",
     "output_type": "stream",
     "text": [
      "Hey, give me a valid quantity, please\n"
     ]
    }
   ],
   "source": [
    "converter(\"two\", \"kilometer\", \"meter\")"
   ]
  },
  {
   "cell_type": "markdown",
   "id": "4edaa291-f91a-41b1-b60f-66b6d3d2caa8",
   "metadata": {},
   "source": [
    "**Dealing with nonexistent units**"
   ]
  },
  {
   "cell_type": "code",
   "execution_count": 89,
   "id": "98aa335c-0a27-4380-a41c-ae5a2172dd31",
   "metadata": {},
   "outputs": [
    {
     "name": "stdout",
     "output_type": "stream",
     "text": [
      "We didn't find the conversion. Make sure you input a valid unit.\n"
     ]
    }
   ],
   "source": [
    "converter(2, \"slug\", \"snail\")"
   ]
  },
  {
   "cell_type": "markdown",
   "id": "cb8fd62e-84db-4fa0-befe-d8db2de4e726",
   "metadata": {},
   "source": [
    "**Other cases**"
   ]
  },
  {
   "cell_type": "code",
   "execution_count": 90,
   "id": "a7b45651-368a-4781-beff-77d5f28db499",
   "metadata": {},
   "outputs": [
    {
     "name": "stdout",
     "output_type": "stream",
     "text": [
      "We didn't find the conversion. Make sure you input a valid unit.\n"
     ]
    }
   ],
   "source": [
    "converter(2, \"KM/H\", \"m/Sec\")"
   ]
  },
  {
   "cell_type": "code",
   "execution_count": 94,
   "id": "48e954fd-ca93-40f9-bef6-81852a163583",
   "metadata": {},
   "outputs": [],
   "source": [
    "def converter(quantity, unit_from, unit_to):\n",
    "    # converts quantity from unit_from to unit_to\n",
    "\n",
    "    # Step 1: Convert quantity to numeric:\n",
    "    try:\n",
    "        quantity = float(quantity)\n",
    "    except ValueError:\n",
    "        print(\"Hey, give me a valid quantity, please\")\n",
    "        return\n",
    "\n",
    "    # Step 2: .lower() the input\n",
    "    unit_from = unit_from.lower()\n",
    "    unit_to = unit_to.lower()\n",
    "\n",
    "    # Step 3: Find the row where unit_from matches\n",
    "    for conv_dict in conversions:\n",
    "        if (conv_dict[\"unit from\"].lower()==unit_from) and (conv_dict[\"unit to\"].lower()==unit_to):\n",
    "            converted = quantity * float(conv_dict[\"conversion factor\"])\n",
    "            print(\"Your new quantity is: \" + str(converted))\n",
    "            return\n",
    "    print(\"We didn't find the conversion. Make sure you input a valid unit.\")\n",
    "    return"
   ]
  },
  {
   "cell_type": "code",
   "execution_count": 95,
   "id": "f957d109-3723-4b74-9351-dd7344a32ea2",
   "metadata": {},
   "outputs": [
    {
     "name": "stdout",
     "output_type": "stream",
     "text": [
      "Your new quantity is: 480.0\n"
     ]
    }
   ],
   "source": [
    "converter(2, \"cup\", \"mL\")"
   ]
  },
  {
   "cell_type": "code",
   "execution_count": null,
   "id": "1bafef67-70c0-4ff6-93e5-d5dc310c74eb",
   "metadata": {},
   "outputs": [],
   "source": []
  },
  {
   "cell_type": "code",
   "execution_count": 106,
   "id": "8d2bbf0f-febd-48d7-82c0-f759f4982dd3",
   "metadata": {},
   "outputs": [
    {
     "name": "stdout",
     "output_type": "stream",
     "text": [
      "Your new quantity is: 56.64\n"
     ]
    }
   ],
   "source": [
    "converter(2, \"cubic foot\", \"liter\")"
   ]
  },
  {
   "cell_type": "code",
   "execution_count": 122,
   "id": "2c799d4c-5112-4fe2-9978-2e6f6b153ae2",
   "metadata": {},
   "outputs": [
    {
     "data": {
      "text/plain": [
       "[{'unit from': 'kilometer', 'conversion factor': '1000', 'unit to': 'meter'},\n",
       " {'unit from': 'meter', 'conversion factor': '100', 'unit to': 'centimeter'},\n",
       " {'unit from': 'inch', 'conversion factor': '2.54', 'unit to': 'centimeter'},\n",
       " {'unit from': 'foot', 'conversion factor': '30.48', 'unit to': 'centimeter'},\n",
       " {'unit from': 'mile', 'conversion factor': '1.609', 'unit to': 'kilometer'}]"
      ]
     },
     "execution_count": 122,
     "metadata": {},
     "output_type": "execute_result"
    }
   ],
   "source": [
    "conversions[0:5]"
   ]
  },
  {
   "cell_type": "code",
   "execution_count": 123,
   "id": "e59a4dfb-2d8a-4f5b-88f3-6f713e8ea2e4",
   "metadata": {},
   "outputs": [],
   "source": [
    "def converter(quantity, unit_from, unit_to):\n",
    "    # converts quantity from unit_from to unit_to\n",
    "\n",
    "    # Step 1: Convert quantity to numeric:\n",
    "    try:\n",
    "        quantity = float(quantity)\n",
    "    except (ValueError, TypeError):\n",
    "        print(\"Hey, give me a valid quantity, please\")\n",
    "        return\n",
    "\n",
    "    # Step 2: .lower() the input\n",
    "    try:\n",
    "        unit_from = unit_from.replace(\" \", \"_\").lower()\n",
    "        unit_to = unit_to.replace(\" \", \"_\").lower()\n",
    "    except AttributeError:\n",
    "        print(\"Hey, there's something wrong with your units. Please double check?\")\n",
    "        return\n",
    "\n",
    "    # Step 3: Find the row where unit_from matches\n",
    "    for conv_dict in conversions:\n",
    "        if (conv_dict[\"unit from\"].lower()==unit_from) and (conv_dict[\"unit to\"].lower()==unit_to):\n",
    "            converted = quantity * float(conv_dict[\"conversion factor\"])\n",
    "            converted = round(converted,2)\n",
    "            print(\"Your new quantity is: \" + str(converted))\n",
    "            return\n",
    "        elif (conv_dict[\"unit from\"].lower()==unit_to) and (conv_dict[\"unit to\"].lower()==unit_from):\n",
    "            converted = quantity / float(conv_dict[\"conversion factor\"])\n",
    "            converted = round'(converted,2)\n",
    "            print(\"Your new quantity is: \" + str(converted))\n",
    "            return\n",
    "    \n",
    "    # Nothing found case:\n",
    "    print(\"We didn't find the conversion. Make sure you input a valid unit.\")\n",
    "    return"
   ]
  },
  {
   "cell_type": "code",
   "execution_count": 113,
   "id": "cf9bcfac-3cf4-4221-b0d1-f18edaafaebe",
   "metadata": {},
   "outputs": [],
   "source": [
    "test_cases = [{\"test_unit\":   \"pint\",        \"test_value\": 2.5,   \"final_unit\": \"mL\"},\n",
    "                {\"test_unit\": \"cubic foot\",  \"test_value\": 30,    \"final_unit\": \"liter\"},\n",
    "                {\"test_unit\": \"slug\",        \"test_value\": \"4.8\", \"final_unit\": \"pound\"},\n",
    "                {\"test_unit\": \"slug\",        \"test_value\": 27.0,  \"final_unit\": \"snail\"},\n",
    "                {\"test_unit\": [],            \"test_value\": 2.5,   \"final_unit\": \"meter\"},     # <-- Testing weird inputs\n",
    "                {\"test_unit\": 1,            \"test_value\": 2.5,   \"final_unit\": \"meter\"},\n",
    "                {\"test_unit\": \"kilometer\",   \"test_value\": [],    \"final_unit\": \"meter\"},\n",
    "                {\"test_unit\": \"KM/H\",        \"test_value\": 8.4,   \"final_unit\": \"m/Sec\"},     # <-- Testing capitalization\n",
    "                {\"test_unit\": \"ergs\",        \"test_value\": 8.4,   \"final_unit\": \"joule\"},     # <-- Inverse conversion\n",
    "                {\"test_unit\": \"tablespoons\", \"test_value\": 2,     \"final_unit\": \"cup\"}        # <-- conversion factor written as fraction\n",
    "]"
   ]
  },
  {
   "cell_type": "code",
   "execution_count": 124,
   "id": "0b1e5ebb-18ad-4238-977d-d7f34854c4f2",
   "metadata": {
    "scrolled": true
   },
   "outputs": [
    {
     "name": "stdout",
     "output_type": "stream",
     "text": [
      "Testing 2.5 from pint to mL:\n",
      "Your new quantity is: 1187.5\n",
      "\n",
      "\n",
      "Testing 30 from cubic foot to liter:\n",
      "Your new quantity is: 849.38\n",
      "\n",
      "\n",
      "Testing 4.8 from slug to pound:\n",
      "Your new quantity is: 154.44\n",
      "\n",
      "\n",
      "Testing 27.0 from slug to snail:\n",
      "We didn't find the conversion. Make sure you input a valid unit.\n",
      "\n",
      "\n",
      "Testing 2.5 from [] to meter:\n",
      "Hey, there's something wrong with your units. Please double check?\n",
      "\n",
      "\n",
      "Testing 2.5 from 1 to meter:\n",
      "Hey, there's something wrong with your units. Please double check?\n",
      "\n",
      "\n",
      "Testing [] from kilometer to meter:\n",
      "Hey, give me a valid quantity, please\n",
      "\n",
      "\n",
      "Testing 8.4 from KM/H to m/Sec:\n",
      "Your new quantity is: 2.33\n",
      "\n",
      "\n",
      "Testing 8.4 from ergs to joule:\n",
      "Your new quantity is: 0.08\n",
      "\n",
      "\n",
      "Testing 2 from tablespoons to cup:\n",
      "Your new quantity is: 0.12\n",
      "\n",
      "\n"
     ]
    }
   ],
   "source": [
    "for test in test_cases:\n",
    "    print(f\"Testing {test['test_value']} from {test['test_unit']} to {test['final_unit']}:\")\n",
    "    \n",
    "    converter(test[\"test_value\"], test[\"test_unit\"], test[\"final_unit\"])\n",
    "    print(\"\\n\")"
   ]
  },
  {
   "cell_type": "code",
   "execution_count": null,
   "id": "0c240b23-ae90-4e91-8e27-a93a254aec0b",
   "metadata": {},
   "outputs": [],
   "source": []
  },
  {
   "cell_type": "code",
   "execution_count": null,
   "id": "6b9d50c3-9c7b-438e-a4e2-f42d1d0a017f",
   "metadata": {},
   "outputs": [],
   "source": []
  },
  {
   "cell_type": "markdown",
   "id": "329cef3e-418d-4d77-bdbd-92d3a3876cae",
   "metadata": {},
   "source": [
    "**Note**"
   ]
  },
  {
   "cell_type": "markdown",
   "id": "9f73abcd",
   "metadata": {},
   "source": [
    "Note that I kept re-writing the `converter` function. In reality, you would not do that, you would just have one copy that you work on and polish. I re-wrote it over and over so you could clearly see the changes, and how we built our function from simple to complex."
   ]
  },
  {
   "cell_type": "code",
   "execution_count": null,
   "id": "3f7b5c4e-8772-4585-92bf-9a7bced6ea04",
   "metadata": {},
   "outputs": [],
   "source": []
  }
 ],
 "metadata": {
  "kernelspec": {
   "display_name": "Python 3 (ipykernel)",
   "language": "python",
   "name": "python3"
  },
  "language_info": {
   "codemirror_mode": {
    "name": "ipython",
    "version": 3
   },
   "file_extension": ".py",
   "mimetype": "text/x-python",
   "name": "python",
   "nbconvert_exporter": "python",
   "pygments_lexer": "ipython3",
   "version": "3.11.5"
  }
 },
 "nbformat": 4,
 "nbformat_minor": 5
}
