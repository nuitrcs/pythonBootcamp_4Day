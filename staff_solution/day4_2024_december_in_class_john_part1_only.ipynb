{
 "cells": [
  {
   "cell_type": "markdown",
   "metadata": {},
   "source": [
    "# John"
   ]
  },
  {
   "cell_type": "code",
   "execution_count": 11,
   "metadata": {
    "tags": []
   },
   "outputs": [],
   "source": [
    "conversion_filename = \"conversionMeasures.csv\""
   ]
  },
  {
   "cell_type": "code",
   "execution_count": 14,
   "metadata": {
    "tags": []
   },
   "outputs": [
    {
     "name": "stdout",
     "output_type": "stream",
     "text": [
      "['kilometer,1000,meter\\n', 'meter,100,centimeter\\n', 'inch,2.54,centimeter\\n', 'foot,30.48,centimeter\\n', 'mile,1.609,kilometer\\n', 'centimeter,0.3937,inch\\n', 'meter,39.37,inch\\n', 'kilometer,0.6214,mile\\n', 'square_meter,10.76,square_foot\\n', 'square_mile,640,acres\\n', 'square_foot,929,cm2\\n', 'acre,43560,square_foot\\n', 'liter,1000,cm3\\n', 'liter,1.057,quart\\n', 'liter,61.02,cubic_inch\\n', 'liter,0.03532,cubic_foot\\n', 'cubic_meter,1000,liter\\n', 'cubic_meter,35.32,cubic_foot\\n', 'cubic_foot,7.481,gallon\\n', 'cubic_foot,0.02832,cubic_meter\\n', 'cubic_foot,28.32,liter\\n', 'gallon,231,cubic_inch\\n', 'gallon,3.785,liter\\n', 'british_gallon,1.201,gallon\\n', 'british_gallon,277.4,cubic_inch\\n', 'kilogram,2.2046,pound\\n', 'kilogram,0.06852,slug\\n', 'pound,453.6,gram\\n', 'pound,0.03108,slug\\n', 'pound,16,ounce\\n', 'slug,32.174,pound\\n', 'slug,14.59,kg\\n', 'km/h,0.2778,m/sec\\n', 'km/h,0.6214,mi/h\\n', 'km/h,0.9113,ft/sec\\n', 'mi/h,1.467,ft/sec\\n', 'mi/h,1.609,km/h\\n', 'mi/h,0.4470,m/sec\\n', 'short_ton,2000,pound\\n', 'long_ton,2240,pound\\n', 'metric_ton,2205,pound\\n', 'joule,107,ergs\\n', 'joule,0.2389,calorie\\n', 'calorie,4.186,joules\\n', 'watt,1,joule/sec\\n', 'watt,107,ergs/sec\\n', 'watt,0.2389,cal/sec\\n', 'tablespoon,3,teaspoon\\n', 'tablespoons,.0625,cup\\n', 'cup,240,mL\\n', 'pint,475,mL\\n', 'ounce,28,gram\\n', 'teaspoon,5,mL']\n"
     ]
    }
   ],
   "source": [
    "with open(conversion_filename, \"r\") as f:\n",
    "    raw_data = f.readlines()\n",
    "    \n",
    "print(raw_data)"
   ]
  },
  {
   "cell_type": "code",
   "execution_count": 18,
   "metadata": {
    "tags": []
   },
   "outputs": [
    {
     "data": {
      "text/plain": [
       "['kilometer', '1000', 'meter']"
      ]
     },
     "execution_count": 18,
     "metadata": {},
     "output_type": "execute_result"
    }
   ],
   "source": [
    "test_line = raw_data[0]\n",
    "# strip string of newline characters\n",
    "# split string by comma\n",
    "test_line.rstrip(\"\\n\").split(\",\")"
   ]
  },
  {
   "cell_type": "code",
   "execution_count": 22,
   "metadata": {
    "tags": []
   },
   "outputs": [
    {
     "data": {
      "text/plain": [
       "['kilometer,1000,meter\\n',\n",
       " 'meter,100,centimeter\\n',\n",
       " 'inch,2.54,centimeter\\n',\n",
       " 'foot,30.48,centimeter\\n',\n",
       " 'mile,1.609,kilometer\\n']"
      ]
     },
     "execution_count": 22,
     "metadata": {},
     "output_type": "execute_result"
    }
   ],
   "source": [
    "raw_data[:5]"
   ]
  },
  {
   "cell_type": "code",
   "execution_count": 23,
   "metadata": {
    "tags": []
   },
   "outputs": [
    {
     "name": "stdout",
     "output_type": "stream",
     "text": [
      "[['kilometer', '1000', 'meter'], ['meter', '100', 'centimeter'], ['inch', '2.54', 'centimeter'], ['foot', '30.48', 'centimeter'], ['mile', '1.609', 'kilometer']]\n"
     ]
    }
   ],
   "source": [
    "# initialize list that contains cleaned data\n",
    "clean_data = []\n",
    "\n",
    "# iterate through each \"line\"\n",
    "for line in raw_data[:5]:\n",
    "    # clean the line\n",
    "    cleaned_line = line.rstrip(\"\\n\").split(\",\")\n",
    "    # add the cleaned line to the cleaned data list\n",
    "    clean_data.append(cleaned_line)\n",
    "    \n",
    "# check clean_data for good measure\n",
    "print(clean_data)"
   ]
  },
  {
   "cell_type": "code",
   "execution_count": 24,
   "metadata": {
    "tags": []
   },
   "outputs": [
    {
     "name": "stdout",
     "output_type": "stream",
     "text": [
      "[['kilometer', '1000', 'meter'], ['meter', '100', 'centimeter'], ['inch', '2.54', 'centimeter'], ['foot', '30.48', 'centimeter'], ['mile', '1.609', 'kilometer'], ['centimeter', '0.3937', 'inch'], ['meter', '39.37', 'inch'], ['kilometer', '0.6214', 'mile'], ['square_meter', '10.76', 'square_foot'], ['square_mile', '640', 'acres'], ['square_foot', '929', 'cm2'], ['acre', '43560', 'square_foot'], ['liter', '1000', 'cm3'], ['liter', '1.057', 'quart'], ['liter', '61.02', 'cubic_inch'], ['liter', '0.03532', 'cubic_foot'], ['cubic_meter', '1000', 'liter'], ['cubic_meter', '35.32', 'cubic_foot'], ['cubic_foot', '7.481', 'gallon'], ['cubic_foot', '0.02832', 'cubic_meter'], ['cubic_foot', '28.32', 'liter'], ['gallon', '231', 'cubic_inch'], ['gallon', '3.785', 'liter'], ['british_gallon', '1.201', 'gallon'], ['british_gallon', '277.4', 'cubic_inch'], ['kilogram', '2.2046', 'pound'], ['kilogram', '0.06852', 'slug'], ['pound', '453.6', 'gram'], ['pound', '0.03108', 'slug'], ['pound', '16', 'ounce'], ['slug', '32.174', 'pound'], ['slug', '14.59', 'kg'], ['km/h', '0.2778', 'm/sec'], ['km/h', '0.6214', 'mi/h'], ['km/h', '0.9113', 'ft/sec'], ['mi/h', '1.467', 'ft/sec'], ['mi/h', '1.609', 'km/h'], ['mi/h', '0.4470', 'm/sec'], ['short_ton', '2000', 'pound'], ['long_ton', '2240', 'pound'], ['metric_ton', '2205', 'pound'], ['joule', '107', 'ergs'], ['joule', '0.2389', 'calorie'], ['calorie', '4.186', 'joules'], ['watt', '1', 'joule/sec'], ['watt', '107', 'ergs/sec'], ['watt', '0.2389', 'cal/sec'], ['tablespoon', '3', 'teaspoon'], ['tablespoons', '.0625', 'cup'], ['cup', '240', 'mL'], ['pint', '475', 'mL'], ['ounce', '28', 'gram'], ['teaspoon', '5', 'mL']]\n"
     ]
    }
   ],
   "source": [
    "clean_data = []\n",
    "for line in raw_data:\n",
    "    cleaned_line = line.rstrip(\"\\n\").split(\",\")\n",
    "    clean_data.append(cleaned_line)\n",
    "print(clean_data)"
   ]
  },
  {
   "cell_type": "code",
   "execution_count": 27,
   "metadata": {
    "tags": []
   },
   "outputs": [
    {
     "data": {
      "text/plain": [
       "True"
      ]
     },
     "execution_count": 27,
     "metadata": {},
     "output_type": "execute_result"
    }
   ],
   "source": [
    "len(clean_data) == len(raw_data)"
   ]
  },
  {
   "cell_type": "code",
   "execution_count": null,
   "metadata": {},
   "outputs": [],
   "source": [
    "from_unit = \"foot\"\n",
    "test_value = 4\n",
    "to_unit = \"centimeter\""
   ]
  },
  {
   "cell_type": "code",
   "execution_count": 29,
   "metadata": {
    "tags": []
   },
   "outputs": [
    {
     "data": {
      "text/plain": [
       "121.92"
      ]
     },
     "execution_count": 29,
     "metadata": {},
     "output_type": "execute_result"
    }
   ],
   "source": [
    "# formula for conversion is from_unit_value * conversion_factor\n",
    "4 * 30.48"
   ]
  },
  {
   "cell_type": "code",
   "execution_count": 31,
   "metadata": {
    "tags": []
   },
   "outputs": [
    {
     "data": {
      "text/plain": [
       "['kilometer,1000,meter\\n',\n",
       " 'meter,100,centimeter\\n',\n",
       " 'inch,2.54,centimeter\\n',\n",
       " 'foot,30.48,centimeter\\n',\n",
       " 'mile,1.609,kilometer\\n']"
      ]
     },
     "execution_count": 31,
     "metadata": {},
     "output_type": "execute_result"
    }
   ],
   "source": [
    "raw_data[:5]"
   ]
  },
  {
   "cell_type": "code",
   "execution_count": 37,
   "metadata": {
    "tags": []
   },
   "outputs": [
    {
     "name": "stdout",
     "output_type": "stream",
     "text": [
      "{'kilometer': {'meter': '1000'}}\n"
     ]
    }
   ],
   "source": [
    "# solution to part 1 using dictionaries of dictionaries:\n",
    "# want dictionary to look like: {\"kilometer\": {\"meter\": 1000, ...}, \"meter\": {\"centimeter\": ...}}\n",
    "master_dict = {}\n",
    "\n",
    "# choose line to test with\n",
    "test_line = raw_data[0]\n",
    "\n",
    "# clean the line\n",
    "clean_line = test_line.rstrip(\"\\n\").split(\",\")\n",
    "\n",
    "# if the from_unit doesn't exist in the dictionary keys list, then create new dictionary\n",
    "if clean_line[0] not in master_dict.keys():\n",
    "    master_dict[clean_line[0]] = {}\n",
    "    \n",
    "# store the new conversion factor inside the nested dictionary. \n",
    "# the key for the nested dictionary is the unit_to. (i.e. master_dict[from_unit][to_unit] = conversion_factor)\n",
    "master_dict[clean_line[0]][clean_line[2]] = clean_line[1]\n",
    "\n",
    "print(master_dict)"
   ]
  },
  {
   "cell_type": "markdown",
   "metadata": {},
   "source": [
    "Now we can apply the same code to rest of the lines in the conversion data"
   ]
  },
  {
   "cell_type": "code",
   "execution_count": 38,
   "metadata": {
    "tags": []
   },
   "outputs": [
    {
     "name": "stdout",
     "output_type": "stream",
     "text": [
      "{'kilometer': {'meter': '1000', 'mile': '0.6214'}, 'meter': {'centimeter': '100', 'inch': '39.37'}, 'inch': {'centimeter': '2.54'}, 'foot': {'centimeter': '30.48'}, 'mile': {'kilometer': '1.609'}, 'centimeter': {'inch': '0.3937'}, 'square_meter': {'square_foot': '10.76'}, 'square_mile': {'acres': '640'}, 'square_foot': {'cm2': '929'}, 'acre': {'square_foot': '43560'}, 'liter': {'cm3': '1000', 'quart': '1.057', 'cubic_inch': '61.02', 'cubic_foot': '0.03532'}, 'cubic_meter': {'liter': '1000', 'cubic_foot': '35.32'}, 'cubic_foot': {'gallon': '7.481', 'cubic_meter': '0.02832', 'liter': '28.32'}, 'gallon': {'cubic_inch': '231', 'liter': '3.785'}, 'british_gallon': {'gallon': '1.201', 'cubic_inch': '277.4'}, 'kilogram': {'pound': '2.2046', 'slug': '0.06852'}, 'pound': {'gram': '453.6', 'slug': '0.03108', 'ounce': '16'}, 'slug': {'pound': '32.174', 'kg': '14.59'}, 'km/h': {'m/sec': '0.2778', 'mi/h': '0.6214', 'ft/sec': '0.9113'}, 'mi/h': {'ft/sec': '1.467', 'km/h': '1.609', 'm/sec': '0.4470'}, 'short_ton': {'pound': '2000'}, 'long_ton': {'pound': '2240'}, 'metric_ton': {'pound': '2205'}, 'joule': {'ergs': '107', 'calorie': '0.2389'}, 'calorie': {'joules': '4.186'}, 'watt': {'joule/sec': '1', 'ergs/sec': '107', 'cal/sec': '0.2389'}, 'tablespoon': {'teaspoon': '3'}, 'tablespoons': {'cup': '.0625'}, 'cup': {'mL': '240'}, 'pint': {'mL': '475'}, 'ounce': {'gram': '28'}, 'teaspoon': {'mL': '5'}}\n"
     ]
    }
   ],
   "source": [
    "# solution to part 1 using dictionaries of dictionaries:\n",
    "# want dictionary to look like: {\"kilometer\": {\"meter\": 1000, ...}, \"meter\": {\"centimeter\": ...}}\n",
    "master_dict = {}\n",
    "\n",
    "# loop through each line in the raw data\n",
    "for line in raw_data:\n",
    "    # clean the line\n",
    "    clean_line = line.rstrip(\"\\n\").split(\",\")\n",
    "    \n",
    "    from_unit = clean_line[0]\n",
    "    conversion_factor = clean_line[1]\n",
    "    to_unit = clean_line[2]\n",
    "\n",
    "    # if the from_unit doesn't exist in the dictionary keys list, then create new dictionary\n",
    "    if from_unit not in master_dict.keys():\n",
    "        master_dict[from_unit] = {}\n",
    "\n",
    "    # store the new conversion factor inside the nested dictionary. \n",
    "    # the key for the nested dictionary is the unit_to. (i.e. master_dict[from_unit][to_unit] = conversion_factor)\n",
    "    master_dict[from_unit][to_unit] = conversion_factor\n",
    "\n",
    "print(master_dict)"
   ]
  },
  {
   "cell_type": "markdown",
   "metadata": {},
   "source": [
    "done!"
   ]
  },
  {
   "cell_type": "code",
   "execution_count": 36,
   "metadata": {
    "tags": []
   },
   "outputs": [
    {
     "data": {
      "text/plain": [
       "'0.6214'"
      ]
     },
     "execution_count": 36,
     "metadata": {},
     "output_type": "execute_result"
    }
   ],
   "source": [
    "# demonstrate how to retrieve conversion factor:\n",
    "# suppose I want to convert from kilometer to mile:\n",
    "master_dict[\"kilometer\"][\"mile\"]"
   ]
  },
  {
   "cell_type": "markdown",
   "metadata": {},
   "source": [
    "This is the conversion factor."
   ]
  },
  {
   "cell_type": "markdown",
   "metadata": {},
   "source": [
    "# Part 2"
   ]
  },
  {
   "cell_type": "code",
   "execution_count": 40,
   "metadata": {
    "tags": []
   },
   "outputs": [
    {
     "data": {
      "text/plain": [
       "[['kilometer', '1000', 'meter'],\n",
       " ['meter', '100', 'centimeter'],\n",
       " ['inch', '2.54', 'centimeter'],\n",
       " ['foot', '30.48', 'centimeter'],\n",
       " ['mile', '1.609', 'kilometer'],\n",
       " ['centimeter', '0.3937', 'inch'],\n",
       " ['meter', '39.37', 'inch'],\n",
       " ['kilometer', '0.6214', 'mile'],\n",
       " ['square_meter', '10.76', 'square_foot'],\n",
       " ['square_mile', '640', 'acres'],\n",
       " ['square_foot', '929', 'cm2'],\n",
       " ['acre', '43560', 'square_foot'],\n",
       " ['liter', '1000', 'cm3'],\n",
       " ['liter', '1.057', 'quart'],\n",
       " ['liter', '61.02', 'cubic_inch'],\n",
       " ['liter', '0.03532', 'cubic_foot'],\n",
       " ['cubic_meter', '1000', 'liter'],\n",
       " ['cubic_meter', '35.32', 'cubic_foot'],\n",
       " ['cubic_foot', '7.481', 'gallon'],\n",
       " ['cubic_foot', '0.02832', 'cubic_meter'],\n",
       " ['cubic_foot', '28.32', 'liter'],\n",
       " ['gallon', '231', 'cubic_inch'],\n",
       " ['gallon', '3.785', 'liter'],\n",
       " ['british_gallon', '1.201', 'gallon'],\n",
       " ['british_gallon', '277.4', 'cubic_inch'],\n",
       " ['kilogram', '2.2046', 'pound'],\n",
       " ['kilogram', '0.06852', 'slug'],\n",
       " ['pound', '453.6', 'gram'],\n",
       " ['pound', '0.03108', 'slug'],\n",
       " ['pound', '16', 'ounce'],\n",
       " ['slug', '32.174', 'pound'],\n",
       " ['slug', '14.59', 'kg'],\n",
       " ['km/h', '0.2778', 'm/sec'],\n",
       " ['km/h', '0.6214', 'mi/h'],\n",
       " ['km/h', '0.9113', 'ft/sec'],\n",
       " ['mi/h', '1.467', 'ft/sec'],\n",
       " ['mi/h', '1.609', 'km/h'],\n",
       " ['mi/h', '0.4470', 'm/sec'],\n",
       " ['short_ton', '2000', 'pound'],\n",
       " ['long_ton', '2240', 'pound'],\n",
       " ['metric_ton', '2205', 'pound'],\n",
       " ['joule', '107', 'ergs'],\n",
       " ['joule', '0.2389', 'calorie'],\n",
       " ['calorie', '4.186', 'joules'],\n",
       " ['watt', '1', 'joule/sec'],\n",
       " ['watt', '107', 'ergs/sec'],\n",
       " ['watt', '0.2389', 'cal/sec'],\n",
       " ['tablespoon', '3', 'teaspoon'],\n",
       " ['tablespoons', '.0625', 'cup'],\n",
       " ['cup', '240', 'mL'],\n",
       " ['pint', '475', 'mL'],\n",
       " ['ounce', '28', 'gram'],\n",
       " ['teaspoon', '5', 'mL']]"
      ]
     },
     "execution_count": 40,
     "metadata": {},
     "output_type": "execute_result"
    }
   ],
   "source": [
    "clean_data"
   ]
  },
  {
   "cell_type": "code",
   "execution_count": 53,
   "metadata": {
    "tags": []
   },
   "outputs": [],
   "source": [
    "from_unit = \"kilometer\"\n",
    "to_unit = \"meter\"\n",
    "test_value = 10\n",
    "\n",
    "# should return 1000"
   ]
  },
  {
   "cell_type": "code",
   "execution_count": 54,
   "metadata": {
    "tags": []
   },
   "outputs": [
    {
     "name": "stdout",
     "output_type": "stream",
     "text": [
      "['kilometer', '1000', 'meter']\n"
     ]
    }
   ],
   "source": [
    "one_line = clean_data[0]\n",
    "print(one_line)"
   ]
  },
  {
   "cell_type": "code",
   "execution_count": 52,
   "metadata": {
    "tags": []
   },
   "outputs": [
    {
     "data": {
      "text/plain": [
       "False"
      ]
     },
     "execution_count": 52,
     "metadata": {},
     "output_type": "execute_result"
    }
   ],
   "source": [
    "one_line[0] == from_unit"
   ]
  },
  {
   "cell_type": "code",
   "execution_count": 45,
   "metadata": {
    "tags": []
   },
   "outputs": [
    {
     "data": {
      "text/plain": [
       "True"
      ]
     },
     "execution_count": 45,
     "metadata": {},
     "output_type": "execute_result"
    }
   ],
   "source": [
    "one_line[2] == to_unit"
   ]
  },
  {
   "cell_type": "code",
   "execution_count": 55,
   "metadata": {
    "tags": []
   },
   "outputs": [
    {
     "data": {
      "text/plain": [
       "'1000'"
      ]
     },
     "execution_count": 55,
     "metadata": {},
     "output_type": "execute_result"
    }
   ],
   "source": [
    "one_line[1]"
   ]
  },
  {
   "cell_type": "code",
   "execution_count": 50,
   "metadata": {
    "tags": []
   },
   "outputs": [
    {
     "name": "stdout",
     "output_type": "stream",
     "text": [
      "16\n"
     ]
    }
   ],
   "source": [
    "from_unit = \"pound\"\n",
    "to_unit = \"ounce\"\n",
    "test_value = 10\n",
    "\n",
    "# interate through each item in the clean data\n",
    "for line in clean_data:\n",
    "    # check for matching units\n",
    "    if line[0] == from_unit and line[2] == to_unit:\n",
    "        print(line[1]) # conversion factor"
   ]
  },
  {
   "cell_type": "code",
   "execution_count": null,
   "metadata": {},
   "outputs": [],
   "source": [
    "# Function for finding conversion factor\n",
    "def find_conversion_factor(from_unit, to_unit):\n",
    "    for line in clean_data:\n",
    "        # check for matching units\n",
    "        if line[0] == from_unit and line[2] == to_unit:\n",
    "            return line[1] # return conversion factor\n",
    "\n",
    "# use conversion factor to convert unit\n",
    "def convert_value(value, conversion_factor):\n",
    "    return value*float(conversion_factor)"
   ]
  }
 ],
 "metadata": {
  "kernelspec": {
   "display_name": "Python 3 (ipykernel)",
   "language": "python",
   "name": "python3"
  },
  "language_info": {
   "codemirror_mode": {
    "name": "ipython",
    "version": 3
   },
   "file_extension": ".py",
   "mimetype": "text/x-python",
   "name": "python",
   "nbconvert_exporter": "python",
   "pygments_lexer": "ipython3",
   "version": "3.11.5"
  }
 },
 "nbformat": 4,
 "nbformat_minor": 4
}
